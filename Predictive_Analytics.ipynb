{
  "nbformat": 4,
  "nbformat_minor": 0,
  "metadata": {
    "colab": {
      "provenance": [],
      "authorship_tag": "ABX9TyPg4RIv/x+9mZelReQCYN6l",
      "include_colab_link": true
    },
    "kernelspec": {
      "name": "python3",
      "display_name": "Python 3"
    },
    "language_info": {
      "name": "python"
    }
  },
  "cells": [
    {
      "cell_type": "markdown",
      "metadata": {
        "id": "view-in-github",
        "colab_type": "text"
      },
      "source": [
        "<a href=\"https://colab.research.google.com/github/Jeswin987/predictive-analytics/blob/master/Predictive_Analytics.ipynb\" target=\"_parent\"><img src=\"https://colab.research.google.com/assets/colab-badge.svg\" alt=\"Open In Colab\"/></a>"
      ]
    },
    {
      "cell_type": "code",
      "execution_count": null,
      "metadata": {
        "id": "SCGI-rx9M0w3",
        "colab": {
          "base_uri": "https://localhost:8080/"
        },
        "outputId": "a6ca87c1-1271-4542-faf4-0bb0b4d74f47"
      },
      "outputs": [
        {
          "output_type": "stream",
          "name": "stdout",
          "text": [
            "Dataset Dimensions: 5076 rows, 18 columns\n",
            "Number of Instances (Observations): 5076\n"
          ]
        }
      ],
      "source": [
        "import pandas as pd\n",
        "from sklearn.model_selection import train_test_split\n",
        "from sklearn.preprocessing import StandardScaler\n",
        "from sklearn.linear_model import LinearRegression\n",
        "from sklearn.metrics import mean_absolute_error, mean_squared_error, r2_score\n",
        "import numpy as np\n",
        "import matplotlib.pyplot as plt\n",
        "\n",
        "# Load the dataset\n",
        "url = 'cars.csv'\n",
        "df = pd.read_csv(url)\n",
        "# Get dataset dimensions\n",
        "num_rows, num_columns = df.shape\n",
        "print(f\"Dataset Dimensions: {num_rows} rows, {num_columns} columns\")\n",
        "\n",
        "# Get number of instances (observations)\n",
        "num_instances = df.shape[0]\n",
        "\n",
        "print(f\"Number of Instances (Observations): {num_instances}\")\n"
      ]
    },
    {
      "cell_type": "code",
      "source": [
        "# Check for duplicated rows\n",
        "num_duplicates = df.duplicated().sum()\n",
        "\n",
        "print(f\"Number of Duplicated Rows: {num_duplicates}\")\n",
        "\n",
        "# Remove duplicated rows if any\n",
        "df = df.drop_duplicates()\n",
        "\n",
        "print(f\"Dataset after removing duplicates: {df.shape[0]} rows, {df.shape[1]} columns\")\n"
      ],
      "metadata": {
        "colab": {
          "base_uri": "https://localhost:8080/"
        },
        "id": "rUgbCWr0kIY1",
        "outputId": "75966538-cc85-4a53-f8b4-9773e38f5426"
      },
      "execution_count": null,
      "outputs": [
        {
          "output_type": "stream",
          "name": "stdout",
          "text": [
            "Number of Duplicated Rows: 18\n",
            "Dataset after removing duplicates: 5058 rows, 18 columns\n"
          ]
        }
      ]
    },
    {
      "cell_type": "code",
      "source": [
        "# Create a new target variable 'Performance_Score'\n",
        "df['Performance_Score'] = (df['Engine Information.Engine Statistics.Horsepower'] +\n",
        "                            df['Engine Information.Engine Statistics.Torque'] +\n",
        "                            df['Fuel Information.City mpg'] +\n",
        "                            df['Fuel Information.Highway mpg'])"
      ],
      "metadata": {
        "id": "ojWOyWN0b8BL"
      },
      "execution_count": null,
      "outputs": []
    },
    {
      "cell_type": "code",
      "source": [
        "columns_to_drop = ['Color', 'Condition', 'Dimensions.Width']\n",
        "existing_columns = [col for col in columns_to_drop if col in df.columns]\n",
        "df = df.drop(columns=existing_columns)\n",
        "\n",
        "# Drop rows with missing 'Performance_Score'\n",
        "df = df.dropna(subset=['Performance_Score'])\n",
        "\n",
        "# Fill missing values for numerical columns with their mean\n",
        "num_cols = ['Dimensions.Height', 'Dimensions.Length', 'Fuel Information.City mpg',\n",
        "            'Fuel Information.Highway mpg', 'Engine Information.Engine Statistics.Horsepower',\n",
        "            'Engine Information.Engine Statistics.Torque']\n",
        "for col in num_cols:\n",
        "    df[col] = df[col].fillna(df[col].mean())\n",
        "\n",
        "# Fill missing values for categorical columns with the mode\n",
        "cat_cols = ['Engine Information.Driveline', 'Engine Information.Engine Type',\n",
        "            'Engine Information.Transmission', 'Fuel Information.Fuel Type',\n",
        "            'Identification.Classification', 'Identification.Make']\n",
        "for col in cat_cols:\n",
        "  if col in df.columns:\n",
        "    df[col] = df[col].fillna(df[col].mode()[0])"
      ],
      "metadata": {
        "id": "yzg8mxW88Tw-"
      },
      "execution_count": null,
      "outputs": []
    },
    {
      "cell_type": "code",
      "source": [
        "# Identify categorical columns\n",
        "categorical_columns = df.select_dtypes(include=['object']).columns\n",
        "\n",
        "num_categorical_variables = len(categorical_columns)\n",
        "\n",
        "print(f\"Number of Categorical Variables: {num_categorical_variables}\")\n",
        "print(f\"Categorical Variables: {list(categorical_columns)}\")\n"
      ],
      "metadata": {
        "colab": {
          "base_uri": "https://localhost:8080/"
        },
        "id": "nqnP6cavZDOO",
        "outputId": "2ef349be-b04a-46f9-8c12-df4cb45b6111"
      },
      "execution_count": null,
      "outputs": [
        {
          "output_type": "stream",
          "name": "stdout",
          "text": [
            "Number of Categorical Variables: 8\n",
            "Categorical Variables: ['Engine Information.Driveline', 'Engine Information.Engine Type', 'Engine Information.Transmission', 'Fuel Information.Fuel Type', 'Identification.Classification', 'Identification.ID', 'Identification.Make', 'Identification.Model Year']\n"
          ]
        }
      ]
    },
    {
      "cell_type": "code",
      "source": [
        "# Identify numerical columns\n",
        "numerical_columns = df.select_dtypes(include=['int64', 'float64']).columns\n",
        "num_numerical_variables = len(numerical_columns)\n",
        "\n",
        "print(f\"Number of Numerical Variables: {num_numerical_variables}\")\n",
        "print(f\"Numerical Variables: {list(numerical_columns)}\")\n"
      ],
      "metadata": {
        "colab": {
          "base_uri": "https://localhost:8080/"
        },
        "id": "8cYzj5VSZ3bi",
        "outputId": "12bd9c2e-3033-4301-8041-c876b7ead29c"
      },
      "execution_count": null,
      "outputs": [
        {
          "output_type": "stream",
          "name": "stdout",
          "text": [
            "Number of Numerical Variables: 9\n",
            "Numerical Variables: ['Dimensions.Height', 'Dimensions.Length', 'Engine Information.Number of Forward Gears', 'Fuel Information.City mpg', 'Fuel Information.Highway mpg', 'Identification.Year', 'Engine Information.Engine Statistics.Horsepower', 'Engine Information.Engine Statistics.Torque', 'Performance_Score']\n"
          ]
        }
      ]
    },
    {
      "cell_type": "code",
      "source": [
        "df = pd.get_dummies(df, columns=cat_cols, drop_first=True)\n",
        "\n",
        "\n",
        "df = df.drop(columns=['Identification.ID', 'Identification.Year', 'Identification.Model Year'])  # Adjust based on relevance\n",
        "\n",
        "# Split the data into training and testing sets\n",
        "X = df.drop(columns=['Performance_Score'])\n",
        "y = df['Performance_Score']\n",
        "X_train, X_test, y_train, y_test = train_test_split(X, y, test_size=0.2, random_state=42)\n"
      ],
      "metadata": {
        "id": "ydP8ZN4mUa8F"
      },
      "execution_count": null,
      "outputs": []
    },
    {
      "cell_type": "code",
      "source": [
        "scaler = StandardScaler()\n",
        "\n",
        "# Fit and transform training data, transform test data\n",
        "X_train_scaled = scaler.fit_transform(X_train)\n",
        "X_test_scaled = scaler.transform(X_test)"
      ],
      "metadata": {
        "id": "d-2i6yBIUbeX"
      },
      "execution_count": null,
      "outputs": []
    },
    {
      "cell_type": "code",
      "source": [
        "model = LinearRegression()\n",
        "\n",
        "# Train Model\n",
        "model.fit(X_train_scaled, y_train)\n",
        "\n",
        "# Predict Performance Score\n",
        "y_pred = model.predict(X_test_scaled)"
      ],
      "metadata": {
        "id": "trGfScjPUfp3"
      },
      "execution_count": null,
      "outputs": []
    },
    {
      "cell_type": "code",
      "source": [
        "# Evaluate the model\n",
        "mae = mean_absolute_error(y_test, y_pred)\n",
        "mse = mean_squared_error(y_test, y_pred)\n",
        "rmse = np.sqrt(mse)\n",
        "r2 = r2_score(y_test, y_pred)\n",
        "\n",
        "print(f'Mean Absolute Error: {mae}')\n",
        "print(f'Mean Squared Error: {mse}')\n",
        "print(f'Root Mean Squared Error: {rmse}')\n",
        "print(f'R-squared Score: {r2}')"
      ],
      "metadata": {
        "colab": {
          "base_uri": "https://localhost:8080/"
        },
        "id": "9BMrAPFIUm22",
        "outputId": "8c9c16a4-15d4-45fb-dbc8-7358f822fbc6"
      },
      "execution_count": null,
      "outputs": [
        {
          "output_type": "stream",
          "name": "stdout",
          "text": [
            "Mean Absolute Error: 1.6813819961928194\n",
            "Mean Squared Error: 209.40481693448413\n",
            "Root Mean Squared Error: 14.470826408138691\n",
            "R-squared Score: 0.9942098130732802\n"
          ]
        }
      ]
    },
    {
      "cell_type": "code",
      "source": [
        "# Residual plot\n",
        "residuals = y_test - y_pred\n",
        "\n",
        "plt.figure(figsize=(8,6))\n",
        "plt.scatter(y_pred, residuals, alpha=0.6, color='blue')\n",
        "plt.axhline(y=0, color='red', linestyle='dashed', linewidth=2)\n",
        "plt.xlabel(\"Predicted Performance Score\")\n",
        "plt.ylabel(\"Residuals (Actual - Predicted)\")\n",
        "plt.title(\"Residuals vs Predicted Values\")\n",
        "plt.grid(True)\n",
        "plt.show()\n"
      ],
      "metadata": {
        "colab": {
          "base_uri": "https://localhost:8080/",
          "height": 564
        },
        "id": "ajQhk6BkUqj4",
        "outputId": "82839885-2e10-4bfb-e8fd-2bc78ee7639c"
      },
      "execution_count": null,
      "outputs": [
        {
          "output_type": "display_data",
          "data": {
            "text/plain": [
              "<Figure size 800x600 with 1 Axes>"
            ],
            "image/png": "[encoded data removed]"
          },
          "metadata": {}
        }
      ]
    },
    {
      "cell_type": "code",
      "source": [],
      "metadata": {
        "id": "jQ1kdfra_gHQ"
      },
      "execution_count": null,
      "outputs": []
    }
  ]
}